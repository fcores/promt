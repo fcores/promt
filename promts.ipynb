{
 "cells": [
  {
   "cell_type": "code",
   "execution_count": 1,
   "metadata": {},
   "outputs": [],
   "source": [
    "import openai\n",
    "\n",
    "# Reemplaza con tu clave API de OpenAI\n",
    "openai.api_key = 'tu_clave_api_aqui'"
   ]
  },
  {
   "cell_type": "code",
   "execution_count": null,
   "metadata": {},
   "outputs": [],
   "source": [
    "def generar_texto(prompt):\n",
    "    response = openai.Completion.create(\n",
    "        engine=\"text-davinci-003\",\n",
    "        prompt=prompt,\n",
    "        max_tokens=150,\n",
    "        temperature=0.7\n",
    "    )\n",
    "    return response.choices[0].text.strip()\n",
    "\n",
    "# Ejemplo de uso\n",
    "prompt_texto = \"Crea un eslogan publicitario para una tienda de ropa de primavera, dirigido a mujeres jóvenes. Quiero que sea moderno y elegante.\"\n",
    "texto_generado = generar_texto(prompt_texto)\n",
    "print(\"Texto Publicitario Generado:\")\n",
    "print(texto_generado)"
   ]
  },
  {
   "cell_type": "code",
   "execution_count": null,
   "metadata": {},
   "outputs": [],
   "source": [
    "def generar_imagen(prompt):\n",
    "    response = openai.Image.create(\n",
    "        prompt=prompt,\n",
    "        n=1,\n",
    "        size=\"1024x1024\"\n",
    "    )\n",
    "    image_url = response['data'][0]['url']\n",
    "    return image_url\n",
    "\n",
    "# Ejemplo de uso\n",
    "prompt_imagen = \"Un cartel publicitario de ropa de primavera para mujeres jóvenes, con colores cálidos y estilo moderno.\"\n",
    "imagen_url = generar_imagen(prompt_imagen)\n",
    "print(\"URL de la Imagen Generada:\")\n",
    "print(imagen_url)"
   ]
  },
  {
   "cell_type": "code",
   "execution_count": null,
   "metadata": {},
   "outputs": [],
   "source": [
    "# Genera el texto publicitario\n",
    "prompt_texto = \"Crea un eslogan publicitario para una tienda de ropa de primavera, dirigido a mujeres jóvenes. Quiero que sea moderno y elegante.\"\n",
    "texto_generado = generar_texto(prompt_texto)\n",
    "print(\"Texto Publicitario Generado:\")\n",
    "print(texto_generado)\n",
    "\n",
    "# Genera la imagen publicitaria\n",
    "prompt_imagen = \"Un cartel publicitario de ropa de primavera para mujeres jóvenes, con colores cálidos y estilo moderno.\"\n",
    "imagen_url = generar_imagen(prompt_imagen)\n",
    "print(\"URL de la Imagen Generada:\")\n",
    "print(imagen_url)"
   ]
  },
  {
   "cell_type": "code",
   "execution_count": null,
   "metadata": {},
   "outputs": [],
   "source": [
    "from IPython.display import Image, display\n",
    "\n",
    "def mostrar_imagen(url):\n",
    "    display(Image(url=url))\n",
    "\n",
    "# Mostrar la imagen generada\n",
    "mostrar_imagen(imagen_url)"
   ]
  }
 ],
 "metadata": {
  "kernelspec": {
   "display_name": "Python 3",
   "language": "python",
   "name": "python3"
  },
  "language_info": {
   "codemirror_mode": {
    "name": "ipython",
    "version": 3
   },
   "file_extension": ".py",
   "mimetype": "text/x-python",
   "name": "python",
   "nbconvert_exporter": "python",
   "pygments_lexer": "ipython3",
   "version": "3.11.5"
  }
 },
 "nbformat": 4,
 "nbformat_minor": 2
}
